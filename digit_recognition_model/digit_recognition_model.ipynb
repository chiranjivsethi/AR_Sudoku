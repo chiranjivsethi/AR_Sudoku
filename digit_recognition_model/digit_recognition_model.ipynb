{
 "cells": [
  {
   "cell_type": "code",
   "execution_count": 25,
   "metadata": {},
   "outputs": [],
   "source": [
    "import keras\n",
    "import pandas as pd\n",
    "import numpy as np\n",
    "import matplotlib.pyplot as plt"
   ]
  },
  {
   "cell_type": "code",
   "execution_count": 26,
   "metadata": {},
   "outputs": [
    {
     "name": "stdout",
     "output_type": "stream",
     "text": [
      "Shape of train set: (42000, 785), Shape of test set: (28000, 784)\n"
     ]
    }
   ],
   "source": [
    "# Reading Datasets.\n",
    "train = pd.read_csv(\"train.csv\")\n",
    "test = pd.read_csv(\"test.csv\")\n",
    "print(\"Shape of train set: {}, Shape of test set: {}\".format(train.shape,test.shape))"
   ]
  },
  {
   "cell_type": "code",
   "execution_count": 27,
   "metadata": {},
   "outputs": [],
   "source": [
    "# Data Normalisation.\n",
    "train_data = train.loc[:, \"pixel0\":]\n",
    "train_label = train.loc[:, \"label\"]\n",
    "\n",
    "# Normalizing the images array to be in the range of 0-1 by dividing them by the max possible value. \n",
    "# Here is it 255 as we have 255 value range for pixels of an image. \n",
    "train_data = train_data/255.0\n",
    "test = test/255.0"
   ]
  },
  {
   "cell_type": "code",
   "execution_count": 28,
   "metadata": {},
   "outputs": [
    {
     "name": "stdout",
     "output_type": "stream",
     "text": [
      "IMAGE LABEL: 9\n"
     ]
    },
    {
     "data": {
      "image/png": "[encoded data removed]",
      "text/plain": [
       "<Figure size 432x288 with 2 Axes>"
      ]
     },
     "metadata": {
      "needs_background": "light"
     },
     "output_type": "display_data"
    }
   ],
   "source": [
    "# Display Data\n",
    "digit_array = train.loc[40, \"pixel0\":]\n",
    "arr = np.array(digit_array) \n",
    "image_array = np.reshape(arr, (28,28))\n",
    "\n",
    "digit_img = plt.imshow(image_array, cmap=plt.cm.binary)\n",
    "plt.colorbar(digit_img)\n",
    "print(\"IMAGE LABEL: {}\".format(train.loc[40, \"label\"]))"
   ]
  },
  {
   "cell_type": "code",
   "execution_count": 29,
   "metadata": {},
   "outputs": [],
   "source": [
    "# Converting dataframe into arrays\n",
    "train_data = np.array(train_data)\n",
    "train_label = np.array(train_label)"
   ]
  },
  {
   "cell_type": "code",
   "execution_count": 30,
   "metadata": {},
   "outputs": [
    {
     "name": "stdout",
     "output_type": "stream",
     "text": [
      "(42000, 28, 28, 1) (42000,)\n"
     ]
    }
   ],
   "source": [
    "# Reshaping the input shapes to get it in the shape which the model expects to recieve later.\n",
    "train_data = train_data.reshape(train_data.shape[0], 28, 28, 1)\n",
    "print(train_data.shape, train_label.shape)"
   ]
  },
  {
   "cell_type": "code",
   "execution_count": 31,
   "metadata": {},
   "outputs": [],
   "source": [
    "from tensorflow.keras.models import Sequential\n",
    "from tensorflow.keras.layers import Dense, Dropout, Lambda, Flatten, BatchNormalization\n",
    "from tensorflow.keras.layers import Conv2D, MaxPool2D, AvgPool2D\n",
    "from tensorflow.keras.optimizers import Adadelta\n",
    "from keras.utils.np_utils import to_categorical\n",
    "from tensorflow.keras.preprocessing.image import ImageDataGenerator\n",
    "from tensorflow.keras.callbacks import ReduceLROnPlateau\n",
    "from tensorflow.keras.callbacks import LearningRateScheduler"
   ]
  },
  {
   "cell_type": "code",
   "execution_count": 32,
   "metadata": {},
   "outputs": [
    {
     "name": "stdout",
     "output_type": "stream",
     "text": [
      "Shape of y_train after encoding:  (42000, 10)\n"
     ]
    }
   ],
   "source": [
    "# Encoding the labels and making them as the class value and finally converting them as categorical values.\n",
    "nclasses = train_label.max() - train_label.min() + 1\n",
    "train_label = to_categorical(train_label, num_classes = nclasses)\n",
    "print(\"Shape of y_train after encoding: \", train_label.shape)"
   ]
  },
  {
   "cell_type": "code",
   "execution_count": 33,
   "metadata": {},
   "outputs": [],
   "source": [
    "def build_model(input_shape=(28, 28, 1)):\n",
    "    model = Sequential()\n",
    "    model.add(Conv2D(32, kernel_size = 3, activation='relu', input_shape = input_shape))\n",
    "    model.add(BatchNormalization())\n",
    "    model.add(Conv2D(32, kernel_size = 3, activation='relu'))\n",
    "    model.add(BatchNormalization())\n",
    "    model.add(Conv2D(32, kernel_size = 5, strides=2, padding='same', activation='relu'))\n",
    "    model.add(BatchNormalization())\n",
    "    model.add(Dropout(0.4))\n",
    "    model.add(Conv2D(64, kernel_size = 3, activation='relu'))\n",
    "    model.add(BatchNormalization())\n",
    "    model.add(Conv2D(64, kernel_size = 3, activation='relu'))\n",
    "    model.add(BatchNormalization())\n",
    "    model.add(Conv2D(64, kernel_size = 5, strides=2, padding='same', activation='relu'))\n",
    "    model.add(BatchNormalization())\n",
    "    model.add(Dropout(0.4))\n",
    "\n",
    "    model.add(Conv2D(128, kernel_size = 4, activation='relu'))\n",
    "    model.add(BatchNormalization())\n",
    "    model.add(Flatten())\n",
    "    model.add(Dropout(0.4))\n",
    "    model.add(Dense(10, activation='softmax'))\n",
    "    return model\n",
    "\n",
    "def compile_model(model, optimizer='adam', loss='categorical_crossentropy'):\n",
    "    model.compile(optimizer=optimizer, loss=loss, metrics=[\"accuracy\"])\n",
    "    \n",
    "def train_model(model, train, test, epochs, split):\n",
    "    history = model.fit(train, test, shuffle=True, epochs=epochs, validation_split=split)\n",
    "    return history"
   ]
  },
  {
   "cell_type": "code",
   "execution_count": 34,
   "metadata": {},
   "outputs": [
    {
     "name": "stdout",
     "output_type": "stream",
     "text": [
      "Epoch 1/50\n",
      "1050/1050 [==============================] - 121s 115ms/step - loss: 0.3742 - accuracy: 0.8850 - val_loss: 0.1079 - val_accuracy: 0.9635\n",
      "Epoch 2/50\n",
      "1050/1050 [==============================] - 120s 114ms/step - loss: 0.1521 - accuracy: 0.9525 - val_loss: 0.0808 - val_accuracy: 0.9733\n",
      "Epoch 3/50\n",
      "1050/1050 [==============================] - 117s 112ms/step - loss: 0.1239 - accuracy: 0.9616 - val_loss: 0.0598 - val_accuracy: 0.9817\n",
      "Epoch 4/50\n",
      "1050/1050 [==============================] - 119s 113ms/step - loss: 0.1068 - accuracy: 0.9673 - val_loss: 0.0527 - val_accuracy: 0.9839\n",
      "Epoch 5/50\n",
      "1050/1050 [==============================] - 116s 110ms/step - loss: 0.1106 - accuracy: 0.9657 - val_loss: 0.1262 - val_accuracy: 0.9582\n",
      "Epoch 6/50\n",
      "1050/1050 [==============================] - 119s 113ms/step - loss: 0.1126 - accuracy: 0.9651 - val_loss: 0.0548 - val_accuracy: 0.9825\n",
      "Epoch 7/50\n",
      "1050/1050 [==============================] - 119s 113ms/step - loss: 0.0938 - accuracy: 0.9700 - val_loss: 0.0457 - val_accuracy: 0.9844\n",
      "Epoch 8/50\n",
      "1050/1050 [==============================] - 119s 113ms/step - loss: 0.0942 - accuracy: 0.9710 - val_loss: 0.0419 - val_accuracy: 0.9863\n",
      "Epoch 9/50\n",
      "1050/1050 [==============================] - 120s 115ms/step - loss: 0.0785 - accuracy: 0.9752 - val_loss: 0.0562 - val_accuracy: 0.9815\n",
      "Epoch 10/50\n",
      "1050/1050 [==============================] - 116s 110ms/step - loss: 0.0769 - accuracy: 0.9756 - val_loss: 0.0411 - val_accuracy: 0.9863\n",
      "Epoch 11/50\n",
      "1050/1050 [==============================] - 116s 110ms/step - loss: 0.0759 - accuracy: 0.9769 - val_loss: 0.0450 - val_accuracy: 0.9851\n",
      "Epoch 12/50\n",
      "1050/1050 [==============================] - 120s 114ms/step - loss: 0.0691 - accuracy: 0.9784 - val_loss: 0.0394 - val_accuracy: 0.9867\n",
      "Epoch 13/50\n",
      "1050/1050 [==============================] - 116s 110ms/step - loss: 0.0674 - accuracy: 0.9790 - val_loss: 0.0402 - val_accuracy: 0.9883\n",
      "Epoch 14/50\n",
      "1050/1050 [==============================] - 122s 116ms/step - loss: 0.0611 - accuracy: 0.9810 - val_loss: 0.0465 - val_accuracy: 0.9848\n",
      "Epoch 15/50\n",
      "1050/1050 [==============================] - 118s 113ms/step - loss: 0.0640 - accuracy: 0.9806 - val_loss: 0.0444 - val_accuracy: 0.9863\n",
      "Epoch 16/50\n",
      "1050/1050 [==============================] - 121s 115ms/step - loss: 0.0618 - accuracy: 0.9811 - val_loss: 0.0373 - val_accuracy: 0.9865\n",
      "Epoch 17/50\n",
      "1050/1050 [==============================] - 119s 113ms/step - loss: 0.0597 - accuracy: 0.9806 - val_loss: 0.0309 - val_accuracy: 0.9895\n",
      "Epoch 18/50\n",
      "1050/1050 [==============================] - 117s 112ms/step - loss: 0.0538 - accuracy: 0.9843 - val_loss: 0.0364 - val_accuracy: 0.9886\n",
      "Epoch 19/50\n",
      "1050/1050 [==============================] - 119s 113ms/step - loss: 0.0540 - accuracy: 0.9824 - val_loss: 0.0340 - val_accuracy: 0.9898\n",
      "Epoch 20/50\n",
      "1050/1050 [==============================] - 119s 114ms/step - loss: 0.0484 - accuracy: 0.9848 - val_loss: 0.0349 - val_accuracy: 0.9899\n",
      "Epoch 21/50\n",
      "1050/1050 [==============================] - 117s 111ms/step - loss: 0.0483 - accuracy: 0.9853 - val_loss: 0.0421 - val_accuracy: 0.9890\n",
      "Epoch 22/50\n",
      "1050/1050 [==============================] - 121s 115ms/step - loss: 0.0478 - accuracy: 0.9848 - val_loss: 0.0327 - val_accuracy: 0.9904\n",
      "Epoch 23/50\n",
      "1050/1050 [==============================] - 117s 111ms/step - loss: 0.0500 - accuracy: 0.9846 - val_loss: 0.0367 - val_accuracy: 0.9900\n",
      "Epoch 24/50\n",
      "1050/1050 [==============================] - 119s 113ms/step - loss: 0.0448 - accuracy: 0.9858 - val_loss: 0.0299 - val_accuracy: 0.9904\n",
      "Epoch 25/50\n",
      "1050/1050 [==============================] - 119s 113ms/step - loss: 0.0405 - accuracy: 0.9877 - val_loss: 0.0395 - val_accuracy: 0.9883\n",
      "Epoch 26/50\n",
      "1050/1050 [==============================] - 120s 115ms/step - loss: 0.0465 - accuracy: 0.9847 - val_loss: 0.0299 - val_accuracy: 0.9918\n",
      "Epoch 27/50\n",
      "1050/1050 [==============================] - 121s 115ms/step - loss: 0.0414 - accuracy: 0.9871 - val_loss: 0.0314 - val_accuracy: 0.9904\n",
      "Epoch 28/50\n",
      "1050/1050 [==============================] - 118s 113ms/step - loss: 0.0379 - accuracy: 0.9880 - val_loss: 0.0335 - val_accuracy: 0.9911\n",
      "Epoch 29/50\n",
      "1050/1050 [==============================] - 121s 116ms/step - loss: 0.0628 - accuracy: 0.9804 - val_loss: 0.0604 - val_accuracy: 0.9820\n",
      "Epoch 30/50\n",
      "1050/1050 [==============================] - 119s 113ms/step - loss: 0.0598 - accuracy: 0.9804 - val_loss: 0.0425 - val_accuracy: 0.9873\n",
      "Epoch 31/50\n",
      "1050/1050 [==============================] - 118s 113ms/step - loss: 0.0531 - accuracy: 0.9827 - val_loss: 0.0301 - val_accuracy: 0.9910\n",
      "Epoch 32/50\n",
      "1050/1050 [==============================] - 121s 116ms/step - loss: 0.0373 - accuracy: 0.9879 - val_loss: 0.0291 - val_accuracy: 0.9894\n",
      "Epoch 33/50\n",
      "1050/1050 [==============================] - 117s 111ms/step - loss: 0.0410 - accuracy: 0.9866 - val_loss: 0.0360 - val_accuracy: 0.9895\n",
      "Epoch 34/50\n",
      "1050/1050 [==============================] - 120s 114ms/step - loss: 0.0422 - accuracy: 0.9869 - val_loss: 0.0311 - val_accuracy: 0.9908\n",
      "Epoch 35/50\n",
      "1050/1050 [==============================] - 121s 115ms/step - loss: 0.0459 - accuracy: 0.9855 - val_loss: 0.0319 - val_accuracy: 0.9906\n",
      "Epoch 36/50\n",
      "1050/1050 [==============================] - 118s 112ms/step - loss: 0.0374 - accuracy: 0.9879 - val_loss: 0.0279 - val_accuracy: 0.9926\n",
      "Epoch 37/50\n",
      "1050/1050 [==============================] - 120s 114ms/step - loss: 0.0347 - accuracy: 0.9889 - val_loss: 0.0298 - val_accuracy: 0.9917\n",
      "Epoch 38/50\n",
      "1050/1050 [==============================] - 115s 110ms/step - loss: 0.0350 - accuracy: 0.9892 - val_loss: 0.0327 - val_accuracy: 0.9907\n",
      "Epoch 39/50\n",
      "1050/1050 [==============================] - 120s 114ms/step - loss: 0.0365 - accuracy: 0.9888 - val_loss: 0.0322 - val_accuracy: 0.9905\n",
      "Epoch 40/50\n",
      "1050/1050 [==============================] - 123s 117ms/step - loss: 0.0345 - accuracy: 0.9883 - val_loss: 0.0388 - val_accuracy: 0.9892\n",
      "Epoch 41/50\n",
      "1050/1050 [==============================] - 120s 114ms/step - loss: 0.0412 - accuracy: 0.9869 - val_loss: 0.0316 - val_accuracy: 0.9901\n",
      "Epoch 42/50\n",
      "1050/1050 [==============================] - 124s 118ms/step - loss: 0.0358 - accuracy: 0.9882 - val_loss: 0.0289 - val_accuracy: 0.9915\n",
      "Epoch 43/50\n",
      "1050/1050 [==============================] - 119s 114ms/step - loss: 0.0368 - accuracy: 0.9881 - val_loss: 0.0270 - val_accuracy: 0.9915\n",
      "Epoch 44/50\n",
      "1050/1050 [==============================] - 121s 115ms/step - loss: 0.0357 - accuracy: 0.9880 - val_loss: 0.0369 - val_accuracy: 0.9887\n",
      "Epoch 45/50\n",
      "1050/1050 [==============================] - 120s 114ms/step - loss: 0.0342 - accuracy: 0.9888 - val_loss: 0.0274 - val_accuracy: 0.9921\n",
      "Epoch 46/50\n",
      "1050/1050 [==============================] - 117s 112ms/step - loss: 0.0307 - accuracy: 0.9901 - val_loss: 0.0283 - val_accuracy: 0.9923\n",
      "Epoch 47/50\n",
      "1050/1050 [==============================] - 123s 117ms/step - loss: 0.0345 - accuracy: 0.9884 - val_loss: 0.0317 - val_accuracy: 0.9920\n",
      "Epoch 48/50\n",
      "1050/1050 [==============================] - 117s 112ms/step - loss: 0.0298 - accuracy: 0.9901 - val_loss: 0.0265 - val_accuracy: 0.9927\n",
      "Epoch 49/50\n",
      "1050/1050 [==============================] - 121s 115ms/step - loss: 0.0322 - accuracy: 0.9895 - val_loss: 0.0267 - val_accuracy: 0.9914\n",
      "Epoch 50/50\n",
      "1050/1050 [==============================] - 121s 115ms/step - loss: 0.0330 - accuracy: 0.9896 - val_loss: 0.0285 - val_accuracy: 0.9924\n"
     ]
    }
   ],
   "source": [
    "cnn_model = build_model((28, 28, 1))\n",
    "compile_model(cnn_model, 'adam', 'categorical_crossentropy')\n",
    "\n",
    "model_history = train_model(cnn_model, train_data, train_label, 50, 0.2)"
   ]
  },
  {
   "cell_type": "code",
   "execution_count": 35,
   "metadata": {},
   "outputs": [],
   "source": [
    "def plot_model_performance(metric, validations_metric):\n",
    "    plt.plot(model_history.history[metric],label = str('Training ' + metric))\n",
    "    plt.plot(model_history.history[validations_metric],label = str('Validation ' + metric))\n",
    "    plt.legend()"
   ]
  },
  {
   "cell_type": "code",
   "execution_count": 36,
   "metadata": {},
   "outputs": [
    {
     "data": {
      "image/png": "[encoded data removed]",
      "text/plain": [
       "<Figure size 432x288 with 1 Axes>"
      ]
     },
     "metadata": {
      "needs_background": "light"
     },
     "output_type": "display_data"
    }
   ],
   "source": [
    "### Plotting the accuracy's\n",
    "plot_model_performance('accuracy', 'val_accuracy')"
   ]
  },
  {
   "cell_type": "code",
   "execution_count": 37,
   "metadata": {},
   "outputs": [
    {
     "data": {
      "image/png": "[encoded data removed]",
      "text/plain": [
       "<Figure size 432x288 with 1 Axes>"
      ]
     },
     "metadata": {
      "needs_background": "light"
     },
     "output_type": "display_data"
    }
   ],
   "source": [
    "## Plotting the loss\n",
    "plot_model_performance('loss', 'val_loss')"
   ]
  },
  {
   "cell_type": "code",
   "execution_count": 38,
   "metadata": {},
   "outputs": [
    {
     "name": "stdout",
     "output_type": "stream",
     "text": [
      "(28000, 28, 28, 1)\n"
     ]
    }
   ],
   "source": [
    "# reshaping the test arrays as we did to train images above somewhere.\n",
    "test_arr = np.array(test)\n",
    "test_arr = test_arr.reshape(test_arr.shape[0], 28, 28, 1)\n",
    "print(test_arr.shape)"
   ]
  },
  {
   "cell_type": "code",
   "execution_count": 40,
   "metadata": {},
   "outputs": [],
   "source": [
    "# Now, since the model is trained, it's time to find the results for the unseen test images.\n",
    "predictions = cnn_model.predict(test_arr)"
   ]
  },
  {
   "cell_type": "code",
   "execution_count": 41,
   "metadata": {},
   "outputs": [],
   "source": [
    "# Finally, making the final submissions\n",
    "predictions_test = []\n",
    "\n",
    "for i in predictions:\n",
    "    predictions_test.append(np.argmax(i))\n"
   ]
  },
  {
   "cell_type": "code",
   "execution_count": 43,
   "metadata": {},
   "outputs": [],
   "source": [
    "## Submitting in the required format\n",
    "submission =  pd.DataFrame({\n",
    "        \"ImageId\": test.index+1,\n",
    "        \"Label\": predictions_test\n",
    "    })\n",
    "\n",
    "submission.to_csv('submission.csv', index=False)"
   ]
  },
  {
   "cell_type": "code",
   "execution_count": 44,
   "metadata": {},
   "outputs": [
    {
     "data": {
      "text/html": [
       "<div>\n",
       "<style scoped>\n",
       "    .dataframe tbody tr th:only-of-type {\n",
       "        vertical-align: middle;\n",
       "    }\n",
       "\n",
       "    .dataframe tbody tr th {\n",
       "        vertical-align: top;\n",
       "    }\n",
       "\n",
       "    .dataframe thead th {\n",
       "        text-align: right;\n",
       "    }\n",
       "</style>\n",
       "<table border=\"1\" class=\"dataframe\">\n",
       "  <thead>\n",
       "    <tr style=\"text-align: right;\">\n",
       "      <th></th>\n",
       "      <th>ImageId</th>\n",
       "      <th>Label</th>\n",
       "    </tr>\n",
       "  </thead>\n",
       "  <tbody>\n",
       "    <tr>\n",
       "      <th>0</th>\n",
       "      <td>1</td>\n",
       "      <td>2</td>\n",
       "    </tr>\n",
       "    <tr>\n",
       "      <th>1</th>\n",
       "      <td>2</td>\n",
       "      <td>0</td>\n",
       "    </tr>\n",
       "    <tr>\n",
       "      <th>2</th>\n",
       "      <td>3</td>\n",
       "      <td>9</td>\n",
       "    </tr>\n",
       "    <tr>\n",
       "      <th>3</th>\n",
       "      <td>4</td>\n",
       "      <td>0</td>\n",
       "    </tr>\n",
       "    <tr>\n",
       "      <th>4</th>\n",
       "      <td>5</td>\n",
       "      <td>3</td>\n",
       "    </tr>\n",
       "    <tr>\n",
       "      <th>...</th>\n",
       "      <td>...</td>\n",
       "      <td>...</td>\n",
       "    </tr>\n",
       "    <tr>\n",
       "      <th>27995</th>\n",
       "      <td>27996</td>\n",
       "      <td>9</td>\n",
       "    </tr>\n",
       "    <tr>\n",
       "      <th>27996</th>\n",
       "      <td>27997</td>\n",
       "      <td>7</td>\n",
       "    </tr>\n",
       "    <tr>\n",
       "      <th>27997</th>\n",
       "      <td>27998</td>\n",
       "      <td>3</td>\n",
       "    </tr>\n",
       "    <tr>\n",
       "      <th>27998</th>\n",
       "      <td>27999</td>\n",
       "      <td>9</td>\n",
       "    </tr>\n",
       "    <tr>\n",
       "      <th>27999</th>\n",
       "      <td>28000</td>\n",
       "      <td>2</td>\n",
       "    </tr>\n",
       "  </tbody>\n",
       "</table>\n",
       "<p>28000 rows × 2 columns</p>\n",
       "</div>"
      ],
      "text/plain": [
       "       ImageId  Label\n",
       "0            1      2\n",
       "1            2      0\n",
       "2            3      9\n",
       "3            4      0\n",
       "4            5      3\n",
       "...        ...    ...\n",
       "27995    27996      9\n",
       "27996    27997      7\n",
       "27997    27998      3\n",
       "27998    27999      9\n",
       "27999    28000      2\n",
       "\n",
       "[28000 rows x 2 columns]"
      ]
     },
     "execution_count": 44,
     "metadata": {},
     "output_type": "execute_result"
    }
   ],
   "source": [
    "submission"
   ]
  },
  {
   "cell_type": "code",
   "execution_count": 46,
   "metadata": {},
   "outputs": [
    {
     "name": "stdout",
     "output_type": "stream",
     "text": [
      "WARNING:tensorflow:From /home/chiranjiv/anaconda3/lib/python3.7/site-packages/tensorflow/python/ops/resource_variable_ops.py:1817: calling BaseResourceVariable.__init__ (from tensorflow.python.ops.resource_variable_ops) with constraint is deprecated and will be removed in a future version.\n",
      "Instructions for updating:\n",
      "If using Keras pass *_constraint arguments to layers.\n",
      "INFO:tensorflow:Assets written to: digit_recognition_model/assets\n"
     ]
    }
   ],
   "source": [
    "cnn_model.save(\"model\")"
   ]
  }
 ],
 "metadata": {
  "kernelspec": {
   "display_name": "Python 3",
   "language": "python",
   "name": "python3"
  }
 },
 "nbformat": 4,
 "nbformat_minor": 2
}